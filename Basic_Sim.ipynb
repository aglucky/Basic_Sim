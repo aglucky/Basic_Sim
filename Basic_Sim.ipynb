{
  "nbformat": 4,
  "nbformat_minor": 0,
  "metadata": {
    "colab": {
      "name": "Basic Sim.ipynb",
      "provenance": [],
      "collapsed_sections": [],
      "toc_visible": true,
      "include_colab_link": true
    },
    "kernelspec": {
      "name": "python3",
      "display_name": "Python 3"
    }
  },
  "cells": [
    {
      "cell_type": "markdown",
      "metadata": {
        "id": "view-in-github",
        "colab_type": "text"
      },
      "source": [
        "<a href=\"https://colab.research.google.com/github/aglucky/Basic_Sim/blob/main/Basic_Sim.ipynb\" target=\"_parent\"><img src=\"https://colab.research.google.com/assets/colab-badge.svg\" alt=\"Open In Colab\"/></a>"
      ]
    },
    {
      "cell_type": "markdown",
      "metadata": {
        "id": "N97fxdot92IQ"
      },
      "source": [
        "#Imports"
      ]
    },
    {
      "cell_type": "code",
      "metadata": {
        "colab": {
          "base_uri": "https://localhost:8080/"
        },
        "id": "AyjOWfywiVJO",
        "outputId": "eeca663d-bf89-4ded-e4f9-cbddc8b5b7e5"
      },
      "source": [
        "from google.colab import drive\n",
        "drive.mount('/content/drive')"
      ],
      "execution_count": null,
      "outputs": [
        {
          "output_type": "stream",
          "text": [
            "Mounted at /content/drive\n"
          ],
          "name": "stdout"
        }
      ]
    },
    {
      "cell_type": "code",
      "metadata": {
        "id": "PjS2QigGowFr"
      },
      "source": [
        "import random\n",
        "import numpy as np\n",
        "import uuid\n",
        "import matplotlib.pyplot as plt\n",
        "import pandas as pd\n",
        "import seaborn as sns\n",
        "sns.set(style='darkgrid')\n",
        "%matplotlib inline"
      ],
      "execution_count": null,
      "outputs": []
    },
    {
      "cell_type": "markdown",
      "metadata": {
        "id": "I-lflu_f96i_"
      },
      "source": [
        "#Functions"
      ]
    },
    {
      "cell_type": "code",
      "metadata": {
        "id": "Q0lQUAE_uBTc"
      },
      "source": [
        "def dist(x1,y1,x2,y2):\n",
        "    return np.sqrt((x2-x1)**2 + (y2-y1)**2)\n",
        "\n",
        "def limit(x,y,posLim):\n",
        "  if x < posLim[0]: x = posLim[0]\n",
        "  if y < posLim[0]: y = posLim[0]\n",
        "  if y > posLim[1]: y = posLim[1]\n",
        "  if x > posLim[1]: x = posLim[1]\n",
        "  return x,y"
      ],
      "execution_count": null,
      "outputs": []
    },
    {
      "cell_type": "markdown",
      "metadata": {
        "id": "TUJxFB0wPdiz"
      },
      "source": [
        "#Food"
      ]
    },
    {
      "cell_type": "code",
      "metadata": {
        "id": "TUJBoJtWPdSk"
      },
      "source": [
        "class food():\n",
        "  def __init__(self,x,y):\n",
        "    self.x = x\n",
        "    self.y = y\n",
        "    self.stamina = 5\n",
        "    self.state = 1 #1 = present, 0 = eaten\n",
        "\n",
        "def makeFood(foods,foodCount,posLim):\n",
        "  cols = posLim[1]\n",
        "  rows = posLim[3]\n",
        "  foods.clear()\n",
        "  for i in range(foodCount):\n",
        "    x = random.randint(0,cols)\n",
        "    y = random.randint(0,rows)\n",
        "    foods.append(food(x,y))\n",
        "  return foods\n",
        "      "
      ],
      "execution_count": null,
      "outputs": []
    },
    {
      "cell_type": "markdown",
      "metadata": {
        "id": "7VdXHimy-D5w"
      },
      "source": [
        "#Organism"
      ]
    },
    {
      "cell_type": "code",
      "metadata": {
        "id": "s94QlEbBsCZ5"
      },
      "source": [
        "class organism():\n",
        "  def __init__(self, x, y, size, speed, vision, id):\n",
        "    self.x = x\n",
        "    self.y = y\n",
        "    self.size = size\n",
        "    self.speed = speed\n",
        "    self.vision = vision\n",
        "    self.see = []\n",
        "    self.id = id\n",
        "    self.state = 1 #0 = dead, 1 = idle, 2 = hunt, 3 = flee, 4 = no energy\n",
        "    self.fitness = 0\n",
        "    self.energy = 150\n",
        "    self.stamina = 5\n",
        "    self.enCost = ((size**3)*(speed**2))+vision\n",
        "    self.age = 0\n",
        "\n",
        "  def canEat(self,org):\n",
        "    if isinstance(org,food):\n",
        "      return True\n",
        "    elif self.size>org.size*1.2:\n",
        "      return True\n",
        "    else:\n",
        "      return False\n",
        "\n",
        "  def canSee(self,organisms,foods):\n",
        "    self.see.clear()\n",
        "\n",
        "    for fod in foods:\n",
        "      if dist(self.x,self.y,fod.x,fod.y)<= self.vision:\n",
        "        self.see.append(fod)\n",
        "      for org in organisms:\n",
        "        if dist(self.x,self.y,org.x,org.y)<= self.vision and self.id != org.id:\n",
        "          self.see.append(org)\n",
        "\n",
        "  def isNear(self):\n",
        "    if len(self.see) == 0:\n",
        "      return False\n",
        "    else:\n",
        "      return True\n",
        "\n",
        "  def findNearestOrg(self):\n",
        "      closeOrg = self.see[0]\n",
        "      for org in self.see:\n",
        "        if isinstance(org,food):\n",
        "          if dist(closeOrg.x,closeOrg.y,self.x,self.y)>dist(org.x,org.y,self.x,self.y):\n",
        "            closeOrg = org\n",
        "        elif dist(closeOrg.x,closeOrg.y,self.x,self.y)>dist(org.x,org.y,self.x,self.y) and self.id != org.id:\n",
        "          closeOrg = org\n",
        "\n",
        "      return closeOrg\n",
        "\n",
        " \n",
        "  def fleeOrFight(self,org):\n",
        "    if self.size>org.size*1.2:\n",
        "      self.state = 2\n",
        "\n",
        "    elif self.size<org.size:\n",
        "      self.state = 3\n",
        "    \n",
        "    else:\n",
        "      self.state = 1\n",
        "\n",
        "  def update_pos(self, dx, dy):\n",
        "    self.x = round(self.x+dx)\n",
        "    self.y = round(self.y+dy)\n",
        "\n",
        "  def boundCheck(self,posLim):\n",
        "    self.x,self.y = limit(self.x,self.y,posLim)\n",
        "\n",
        "    \n",
        "  def chase(self, org):\n",
        "    ang = 0\n",
        "    if org.x == self.x and org.y == self.y:\n",
        "      dx=0\n",
        "      dy=0\n",
        "\n",
        "    elif org.x == self.x:\n",
        "      if self.y < org.y:\n",
        "        ang = np.pi/2\n",
        "      else:\n",
        "        ang = 3 * (np.pi/2)\n",
        "\n",
        "    else:\n",
        "      a = org.y-self.y\n",
        "      b = org.x-self.x\n",
        "      c = np.sqrt((a)**2+(b)**2)\n",
        "      ang = np.arccos(a/c) \n",
        "\n",
        "    dx = self.speed*np.cos(ang)\n",
        "    dy = self.speed*np.sin(ang)\n",
        "\n",
        "    if abs(self.x-org.x)<self.speed:\n",
        "      self.x = org.x\n",
        "      dx = 0\n",
        "\n",
        "    if abs(self.y-org.y)<self.speed:\n",
        "      self.y = org.y\n",
        "      dy = 0\n",
        "    \n",
        "    self.update_pos(dx, dy)\n",
        "\n",
        "  def flee(self, org, posLim):\n",
        "    xMin = posLim[0]\n",
        "    xMax = posLim[1]\n",
        "    yMin = posLim[2]\n",
        "    yMax = posLim[3]\n",
        "\n",
        "    if self.edgeAct(org,posLim):\n",
        "      pass\n",
        "      \n",
        "    else:\n",
        "\n",
        "      ang = 0\n",
        "      if org.x == self.x:\n",
        "        if self.y < org.y  :\n",
        "          ang = 3 * (np.pi/2)\n",
        "        else:\n",
        "          ang = np.pi/2\n",
        "\n",
        "      elif org.y == self.y:\n",
        "        if self.x > org.x  :\n",
        "          ang = 2 * np.pi\n",
        "        else:\n",
        "          ang = np.pi\n",
        "\n",
        "      else:\n",
        "        a = org.y-self.y\n",
        "        b = org.x-self.x\n",
        "        c = np.sqrt((a)**2+(b)**2)\n",
        "        ang = (np.arccos(a/c)+np.pi)/(2*np.pi) \n",
        "\n",
        "      dx = self.speed*np.cos(ang)\n",
        "      dy = self.speed*np.sin(ang)\n",
        "\n",
        "      self.update_pos(dx, dy)\n",
        "    \n",
        "\n",
        "  def edgeAct(self,org,posLim):\n",
        "    xMin = posLim[0]\n",
        "    xMax = posLim[1]\n",
        "    yMin = posLim[2]\n",
        "    yMax = posLim[3]\n",
        "    cornerCount = []\n",
        "\n",
        "    #Corner Check\n",
        "    if self.x<xMin:\n",
        "      self.x = xMin\n",
        "      cornerCount.append('down')\n",
        "\n",
        "    if self.x>xMax:\n",
        "      self.x = xMax\n",
        "      cornerCount.append('up')\n",
        "        \n",
        "\n",
        "    if self.y<yMin:\n",
        "      self.y = yMin\n",
        "      cornerCount.append('left')\n",
        "\n",
        "\n",
        "    if self.y>yMax:\n",
        "      self.y = yMax\n",
        "      cornerCount.append('right')\n",
        "\n",
        "    if len(cornerCount)==2:\n",
        "\n",
        "      #Top Right Corner\n",
        "      if cornerCount[0] == 'up' and cornerCount[1] == 'right':\n",
        "        choice = random.randint(-1,1)\n",
        "        \n",
        "        if choice == -1:\n",
        "          self.update_pos(-1*self.speed,0)\n",
        "        if choice == 1:\n",
        "          self.update_pos(0,-1*self.speed)\n",
        "\n",
        "      #Top Left Corner\n",
        "      if cornerCount[0] == 'up' and cornerCount[1] == 'left':\n",
        "        choice = random.randint(-1,1)\n",
        "        \n",
        "        if choice == -1:\n",
        "          self.update_pos(self.speed,0)\n",
        "        if choice == 1:\n",
        "          self.update_pos(0,-1*self.speed)\n",
        "\n",
        "      #Bottom Right Corner\n",
        "      if cornerCount[0] == 'down' and cornerCount[1] == 'right':\n",
        "        choice = random.randint(-1,1)\n",
        "        \n",
        "        if choice == -1:\n",
        "          self.update_pos(-1*self.speed,0)\n",
        "        if choice == 1:\n",
        "          self.update_pos(0,self.speed)\n",
        "\n",
        "      #Top Left Corner\n",
        "      if cornerCount[0] == 'down' and cornerCount[1] == 'left':\n",
        "        choice = random.randint(-1,1)\n",
        "        \n",
        "        if choice == -1:\n",
        "          self.update_pos(self.speed,0)\n",
        "        if choice == 1:\n",
        "          self.update_pos(0,self.speed)\n",
        "\n",
        "#Edge Check/Act\n",
        "    else:\n",
        "      if self.x<xMin:\n",
        "        self.x = xMin\n",
        "        if org.y<self.y:\n",
        "          self.y+= self.speed\n",
        "        elif org.y>self.y:\n",
        "          self.y+=-1*self.speed\n",
        "          \n",
        "\n",
        "      if self.x>xMax:\n",
        "        self.x = xMax\n",
        "        if org.y<self.y:\n",
        "          self.y+= self.speed\n",
        "        elif org.y>self.y:\n",
        "          self.y+=-1*self.speed\n",
        "          \n",
        "\n",
        "      if self.y<yMin:\n",
        "        self.y = yMin\n",
        "        if org.x<self.x:\n",
        "          self.x+= self.speed\n",
        "        elif org.x>self.x:\n",
        "          self.x+=-1*self.speed\n",
        "          \n",
        "\n",
        "      if self.y>yMax:\n",
        "        self.y = yMax\n",
        "        if org.x<self.x:\n",
        "          self.x+= self.speed\n",
        "        elif org.x>self.x:\n",
        "          self.x+=-1*self.speed\n",
        "          \n",
        "    if len(cornerCount)> 0:\n",
        "      return True\n",
        "    else:\n",
        "      return False\n",
        "\n",
        "  def idleMove(self):\n",
        "    dx = random.randint(-1,1)*self.speed\n",
        "    dy = random.randint(-1,1)*self.speed\n",
        "    self.update_pos(dx,dy)\n"
      ],
      "execution_count": null,
      "outputs": []
    },
    {
      "cell_type": "markdown",
      "metadata": {
        "id": "WQn_P95m-I_5"
      },
      "source": [
        "#Simulate"
      ]
    },
    {
      "cell_type": "code",
      "metadata": {
        "id": "SiZXOvn30u8W"
      },
      "source": [
        " def simulate(time,organisms,foods,posLim,last):\n",
        "    orgEatRate = 0\n",
        "    org_x = []\n",
        "    org_y = []\n",
        "    org_size = []\n",
        "    food_x = []\n",
        "    food_y = []\n",
        "\n",
        "    for t_step in range(0, time): \n",
        "\n",
        "      #Graph if last gen\n",
        "      if last == True: \n",
        "        org_x.clear()\n",
        "        org_y.clear()\n",
        "        org_size.clear()\n",
        "        food_x.clear()\n",
        "        food_y.clear()\n",
        "\n",
        "        for fod in foods:\n",
        "          food_x.append(fod.x)\n",
        "          food_y.append(fod.y)\n",
        "\n",
        "        for org in organisms:\n",
        "          org_x.append(org.x)\n",
        "          org_y.append(org.y)\n",
        "          org_size.append(org.size)\n",
        "        \n",
        "        plt.scatter(org_x, org_y, s=org_size, c='r')\n",
        "        plt.scatter(food_x, food_y, s=1.5, c='b')\n",
        "\n",
        "        plt.title('Simulation Enviorment')\n",
        "        plt.xlabel('X Positions')\n",
        "        plt.ylabel('Y Positions')\n",
        "        plt.xlim(0,53)\n",
        "        plt.ylim(0,53)\n",
        "        fileName = 'frame:' + str(t_step+1)\n",
        "        images_dir = '/content/drive/MyDrive/basicSimFrames'\n",
        "        plt.savefig(\"{}/{}\".format(images_dir,fileName))\n",
        "        plt.clf()\n",
        "     \n",
        "      for org in organisms:\n",
        "        if org.energy <org.enCost:\n",
        "          org.state = 4\n",
        "        else:\n",
        "          org.canSee(organisms,foods)\n",
        "          \n",
        "          if org.isNear()==False:\n",
        "            org.state = 1\n",
        "          else:\n",
        "            near = org.findNearestOrg()\n",
        "            if isinstance(near,food):\n",
        "              org.state =2\n",
        "            else:\n",
        "              if org.canEat(near):\n",
        "                org.state = 2\n",
        "              else:\n",
        "                org.state = 3\n",
        "\n",
        "        if org.state == 1:\n",
        "          org.idleMove()\n",
        "          org.x,org.y = limit(org.x,org.y,posLim)\n",
        "        \n",
        "        elif org.state == 2:\n",
        "          org.chase(near)\n",
        "          org.x,org.y = limit(org.x,org.y,posLim)\n",
        "          if org.x == near.x and org.y==near.y and org.canEat(near):\n",
        "            org.energy+=near.stamina\n",
        "            near.state=0\n",
        "            org.fitness+=1\n",
        "        \n",
        "        elif org.state == 3:\n",
        "          org.flee(near,posLim)\n",
        "          org.x,org.y = limit(org.x,org.y,posLim)\n",
        "\n",
        "        org.stamina= org.stamina - org.enCost\n",
        "\n",
        "        #Remove eaten objects\n",
        "        for check in organisms:\n",
        "          if check.state == 0:\n",
        "            organisms.remove(check)\n",
        "            orgEatRate +=1\n",
        "\n",
        "        for check in foods:\n",
        "          if check.state == 0:\n",
        "            foods.remove(check)\n",
        "\n",
        "    return organisms,orgEatRate\n"
      ],
      "execution_count": null,
      "outputs": []
    },
    {
      "cell_type": "markdown",
      "metadata": {
        "id": "tpgYiAfuMDGE"
      },
      "source": [
        "\n",
        "#Genetic Algorithim Methods\n"
      ]
    },
    {
      "cell_type": "markdown",
      "metadata": {
        "id": "N0V44QsWTE4K"
      },
      "source": [
        "#Reproduce Method"
      ]
    },
    {
      "cell_type": "code",
      "metadata": {
        "id": "Y1bu4zWGM_Xa"
      },
      "source": [
        " def reproduce(org_1, org_2, mutation_prob=0.1):\n",
        "    child = []\n",
        "    parent_1 = [org_1.size,org_1.speed,org_1.vision]\n",
        "    parent_2 = [org_2.size,org_2.speed,org_2.vision]\n",
        "\n",
        "    crossover = random.randint(0,3)\n",
        "\n",
        "    for i in range(3):\n",
        "      if i<crossover:\n",
        "        child.append(parent_1[i])\n",
        "      else:\n",
        "        child.append(parent_2[i])\n",
        "    \n",
        "    for i in range(3):\n",
        "      if round(random.uniform(0.0,1.0),2)<=mutation_prob:\n",
        "        child[i] = child[i] + (child[i]*random.uniform(-.5,.5))\n",
        "\n",
        "    size = round(child[0],2)\n",
        "    speed = round(child[1],2)\n",
        "    vision = round(child[2],2)\n",
        "\n",
        "    x = random.randint(0,50)\n",
        "    y = random.randint(0,50)\n",
        "\n",
        "    return organism(x,y,size,speed,vision,uuid.uuid4())"
      ],
      "execution_count": null,
      "outputs": []
    },
    {
      "cell_type": "markdown",
      "metadata": {
        "id": "e9MSp0pjTKPI"
      },
      "source": [
        "#Evolution Method"
      ]
    },
    {
      "cell_type": "code",
      "metadata": {
        "id": "MDf1CfKRAydi"
      },
      "source": [
        "def evolve(organisms):\n",
        "  newGen = []\n",
        "  children = []\n",
        "  parents = []\n",
        "  count = 0\n",
        "  birthRate = 0\n",
        "  deathAdd = len(organisms)\n",
        "\n",
        " #Wipe out weak organisms\n",
        "  for org in organisms:\n",
        "    if org.fitness > 0:\n",
        "      count +=1\n",
        "\n",
        "  if count == 0:\n",
        "    for i in range(random.randint(1,len(organisms))):\n",
        "      fit = organisms[0]\n",
        "      for org in organisms:\n",
        "        if org.fitness>fit.fitness:\n",
        "          fit = org\n",
        "      newGen.append(fit)\n",
        "\n",
        "    for i in range(random.randint(1,len(newGen))):\n",
        "      parent = newGen[0]\n",
        "      for org in newGen:\n",
        "        if org.fitness>fit.fitness:\n",
        "          parent = org\n",
        "      newGen.append(parent)\n",
        "\n",
        "  else:\n",
        "\n",
        "    for i in range(len(organisms)):\n",
        "      if organisms[i].fitness==1:\n",
        "        newGen.append(organisms[i])\n",
        "        deathAdd-=1\n",
        "      elif organisms[i].fitness>=2:\n",
        "        parents.append(organisms[i])\n",
        "        newGen.append(organisms[i])\n",
        "        deathAdd-=1\n",
        "\n",
        "\n",
        "  #Reproduce\n",
        "  while len(parents) > 0:\n",
        "    if len(parents) == 1:\n",
        "      parent_1 = parents[0]\n",
        "      parent_2 = parents[0]\n",
        "      parents.clear()\n",
        "    else:\n",
        "      parent_1 = random.choice(parents)\n",
        "      parents.remove(parent_1)\n",
        "\n",
        "      parent_2 = random.choice(parents)\n",
        "      parents.remove(parent_2)\n",
        "\n",
        "      for i in range(5):\n",
        "        chance = (parent_1.fitness+parent_2.fitness)/20\n",
        "\n",
        "        if random.uniform(0,1)<chance:\n",
        "          children.append(reproduce(parent_1,parent_2,mutation_prob=0.1))\n",
        "          birthRate+=1\n",
        "\n",
        "  while len(children)>0:\n",
        "    if len(children) == 1:\n",
        "      newGen.append(children[0])\n",
        "      children.remove(children[0])\n",
        "    else:\n",
        "      kidAdd = children[random.randint(0,len(children)-1)]\n",
        "      children.remove(kidAdd)\n",
        "      newGen.append(kidAdd)\n",
        "\n",
        "  for org in newGen:\n",
        "    org.fitness = 0\n",
        "    org.energy = 150\n",
        "\n",
        "  return newGen,birthRate,deathAdd"
      ],
      "execution_count": null,
      "outputs": []
    },
    {
      "cell_type": "markdown",
      "metadata": {
        "id": "idKALgD9-LVH"
      },
      "source": [
        "#Run"
      ]
    },
    {
      "cell_type": "code",
      "metadata": {
        "id": "pGj5QrFTxYGF",
        "colab": {
          "base_uri": "https://localhost:8080/",
          "height": 301
        },
        "outputId": "576ba7be-e8d2-4e4e-92c0-5424e05b135d"
      },
      "source": [
        "#Setup\n",
        "rows, cols = (15, 15) \n",
        "posLim = [0,cols,0,rows]\n",
        "gen = 50\n",
        "popCount = 15\n",
        "foodCount = 30\n",
        "organisms = []\n",
        "foods = []\n",
        "#Stats\n",
        "totalSize = 0\n",
        "totalSpeed = 0\n",
        "totalVision = 0\n",
        "sizeStat =[]\n",
        "speedStat=[]\n",
        "visionStat=[]\n",
        "ageStat = []\n",
        "numOrgs = []\n",
        "foodEaten = []\n",
        "birthStat = []\n",
        "orgEatStat = []\n",
        "selectKillStat = []\n",
        "totalDeathStat = []\n",
        "averageFitness = []\n",
        "#Plotting enviorment\n",
        "xOrg =[]\n",
        "yOrg = []\n",
        "area = []\n",
        "xFood =[]\n",
        "yFood =[]\n",
        "#Return\n",
        "bestOrgs = []\n",
        "\n",
        "for i in range(popCount):\n",
        "  x = random.randint(0,cols)\n",
        "  y = random.randint(0,rows)\n",
        "  size = random.uniform(0.00,2.00)\n",
        "  speed = random.uniform(0.00,2.00)\n",
        "  vision = random.uniform(0.00,4.00)\n",
        "  organisms.append(organism(x,y,size,speed,vision, uuid.uuid4()))\n",
        "  totalSize += size\n",
        "  totalSpeed += speed\n",
        "  totalVision += vision\n",
        "\n",
        "for i in range(foodCount):\n",
        "  x = random.randint(0,cols)\n",
        "  y = random.randint(0,rows)\n",
        "  foods.append(food(x,y))\n",
        "\n",
        "#Initial stats\n",
        "numOrgs.append(len(organisms))\n",
        "foodEaten.append(len(foods))\n",
        "sizeStat.append(totalSize/len(organisms))\n",
        "speedStat.append(totalSpeed/len(organisms))\n",
        "visionStat.append(totalVision/len(organisms))\n",
        "\n",
        "#Run Simulaion\n",
        "for i in range(gen):\n",
        "  totalSize = 0\n",
        "  totalSpeed = 0\n",
        "  totalVision = 0\n",
        "  totalAge = 0\n",
        "  totalFitness = 0\n",
        "\n",
        "  foods = makeFood(foods,foodCount,posLim)\n",
        "\n",
        "  #Run 1 Round\n",
        "  if i == gen-1:\n",
        "    organisms,eat = simulate(100,organisms,foods,posLim,True)\n",
        "  else:\n",
        "    organisms,eat = simulate(100,organisms,foods,posLim,False)\n",
        "\n",
        "\n",
        "\n",
        "\n",
        "  for org in organisms:\n",
        "    org.age += 1\n",
        "    totalSize += org.size\n",
        "    totalSpeed += org.speed\n",
        "    totalVision += org.vision\n",
        "    totalAge+=org.age\n",
        "    totalFitness += org.fitness\n",
        "  sizeStat.append(totalSize/len(organisms))\n",
        "  speedStat.append(totalSpeed/len(organisms))\n",
        "  visionStat.append(totalVision/len(organisms))\n",
        "  ageStat.append(totalAge/len(organisms))\n",
        "  numOrgs.append(len(organisms))\n",
        "  foodEaten.append(foodCount - len(foods))\n",
        "  averageFitness.append(totalAge/len(organisms))\n",
        "\n",
        "  if i != gen-1:\n",
        "    organisms,birthRate,selectKill = evolve(organisms)\n",
        "\n",
        "  birthStat.append(birthRate)\n",
        "  orgEatStat.append(eat)\n",
        "  selectKillStat.append(selectKill)\n",
        "  totalDeathStat.append(eat+selectKill)  \n",
        "\n",
        "#Final Gen Stats/Plot\n",
        "for org in organisms:\n",
        "  xOrg.append(org.x)\n",
        "  yOrg.append(org.y)\n",
        "  area.append((org.size**2)*np.pi)\n",
        "  bestOrgs.append([org.size,org.speed,org.vision,org.age,org.fitness])\n",
        "\n",
        "for fod in foods:\n",
        "  xFood.append(fod.x)\n",
        "  yFood.append(fod.y)\n",
        "\n",
        "plt.scatter(xOrg, yOrg, s=area, c='r')\n",
        "plt.scatter(xFood, yFood, s=1.5, c='b')\n",
        "\n",
        "plt.title('Simulation Enviorment')\n",
        "plt.xlabel('X Positions')\n",
        "plt.ylabel('Y Positions')\n",
        "\n",
        "plt.show()"
      ],
      "execution_count": null,
      "outputs": [
        {
          "output_type": "display_data",
          "data": {
            "image/png": "[encoded data removed]",
            "text/plain": [
              "<Figure size 432x288 with 1 Axes>"
            ]
          },
          "metadata": {
            "tags": [],
            "needs_background": "light"
          }
        }
      ]
    },
    {
      "cell_type": "markdown",
      "metadata": {
        "id": "tHE9v9yy_MNH"
      },
      "source": [
        "#Data Visualization"
      ]
    },
    {
      "cell_type": "code",
      "metadata": {
        "id": "4GShVSM9_Ohc",
        "colab": {
          "base_uri": "https://localhost:8080/",
          "height": 301
        },
        "outputId": "8a573f2c-3b8d-4cbc-a209-ff3eca98d7d5"
      },
      "source": [
        "df=pd.DataFrame(list(zip(sizeStat,speedStat,visionStat,numOrgs,foodEaten,ageStat,birthStat,orgEatStat,selectKillStat,totalDeathStat,averageFitness)),columns =['Size', 'Speed', 'Vision','Population','Food Eaten','Average Age','Births','Cannibalism','Nonselected Organisms','Total Death','Average Fitness'])\n",
        "df.plot(y=['Size', 'Speed', 'Vision'], title = \"Emergent Traits Over Generations\")\n",
        "plt.xlabel('Generations')\n",
        "plt.ylabel('Average Trait Values')\n",
        "plt.ylim(0, None)\n",
        "plt.xlim(0, None)\n",
        "df.describe()\n",
        "df.to_csv(\"orgStats.csv\")"
      ],
      "execution_count": null,
      "outputs": [
        {
          "output_type": "display_data",
          "data": {
            "image/png": "[encoded data removed]",
            "text/plain": [
              "<Figure size 432x288 with 1 Axes>"
            ]
          },
          "metadata": {
            "tags": [],
            "needs_background": "light"
          }
        }
      ]
    },
    {
      "cell_type": "code",
      "metadata": {
        "id": "kDMASeftz17y",
        "colab": {
          "base_uri": "https://localhost:8080/",
          "height": 319
        },
        "outputId": "d57ba8fb-dd21-44f4-a7b6-5a0825a9393b"
      },
      "source": [
        "df.plot(y = ['Population','Food Eaten','Cannibalism'], title = \"Population Stats over Time\", )\n",
        "plt.xlabel('Generations')\n",
        "plt.ylabel('Organisms')\n",
        "plt.ylim(0, None)\n",
        "plt.xlim(0, gen)"
      ],
      "execution_count": null,
      "outputs": [
        {
          "output_type": "execute_result",
          "data": {
            "text/plain": [
              "(0.0, 50.0)"
            ]
          },
          "metadata": {
            "tags": []
          },
          "execution_count": 11
        },
        {
          "output_type": "display_data",
          "data": {
            "image/png": "[encoded data removed]",
            "text/plain": [
              "<Figure size 432x288 with 1 Axes>"
            ]
          },
          "metadata": {
            "tags": [],
            "needs_background": "light"
          }
        }
      ]
    },
    {
      "cell_type": "code",
      "metadata": {
        "colab": {
          "base_uri": "https://localhost:8080/",
          "height": 319
        },
        "id": "Q0rVizhKQ5Sg",
        "outputId": "3cf63062-82d3-4420-d0b5-4d20cd142057"
      },
      "source": [
        "df.plot(y=['Population','Births','Total Death'], title = \"Population Growth and Death over Time\")\n",
        "plt.xlabel('Generations')\n",
        "plt.ylabel('Organisms')\n",
        "plt.ylim(0, None)\n",
        "plt.xlim(0, gen)"
      ],
      "execution_count": null,
      "outputs": [
        {
          "output_type": "execute_result",
          "data": {
            "text/plain": [
              "(0.0, 50.0)"
            ]
          },
          "metadata": {
            "tags": []
          },
          "execution_count": 12
        },
        {
          "output_type": "display_data",
          "data": {
            "image/png": "[encoded data removed]",
            "text/plain": [
              "<Figure size 432x288 with 1 Axes>"
            ]
          },
          "metadata": {
            "tags": [],
            "needs_background": "light"
          }
        }
      ]
    },
    {
      "cell_type": "code",
      "metadata": {
        "colab": {
          "base_uri": "https://localhost:8080/",
          "height": 319
        },
        "id": "WC07AIDJAnrr",
        "outputId": "93e7a439-f5f5-4dba-bcbd-8d0764d1f8d6"
      },
      "source": [
        "df.plot(y=['Average Fitness'], title = \"Fitness over Time\")\n",
        "plt.xlabel('Generations')\n",
        "plt.ylabel('Average Fitness')\n",
        "plt.ylim(0, None)\n",
        "plt.xlim(0, gen)"
      ],
      "execution_count": null,
      "outputs": [
        {
          "output_type": "execute_result",
          "data": {
            "text/plain": [
              "(0.0, 50.0)"
            ]
          },
          "metadata": {
            "tags": []
          },
          "execution_count": 13
        },
        {
          "output_type": "display_data",
          "data": {
            "image/png": "[encoded data removed]",
            "text/plain": [
              "<Figure size 432x288 with 1 Axes>"
            ]
          },
          "metadata": {
            "tags": [],
            "needs_background": "light"
          }
        }
      ]
    },
    {
      "cell_type": "markdown",
      "metadata": {
        "id": "Cd_-_RJWPWAn"
      },
      "source": [
        "#Plotly"
      ]
    },
    {
      "cell_type": "code",
      "metadata": {
        "colab": {
          "base_uri": "https://localhost:8080/",
          "height": 542
        },
        "id": "oQfB3xQbLwp7",
        "outputId": "166026ad-8b71-4ee9-d288-e48ed520266f"
      },
      "source": [
        "\n",
        "import cufflinks as cf\n",
        "import plotly.offline\n",
        "cf.go_offline()\n",
        "cf.set_config_file(offline=False, world_readable=True)\n",
        "import plotly.io as pio\n",
        "pio.renderers.default = 'colab'\n",
        "\n",
        "df.iplot(kind='line',y=['Speed','Size','Vision'], xTitle= 'Generations',yTitle='Average Value', title='Trait Evolution')"
      ],
      "execution_count": null,
      "outputs": [
        {
          "output_type": "display_data",
          "data": {
            "text/html": [
              "        <script type=\"text/javascript\">\n",
              "        window.PlotlyConfig = {MathJaxConfig: 'local'};\n",
              "        if (window.MathJax) {MathJax.Hub.Config({SVG: {font: \"STIX-Web\"}});}\n",
              "        if (typeof require !== 'undefined') {\n",
              "        require.undef(\"plotly\");\n",
              "        requirejs.config({\n",
              "            paths: {\n",
              "                'plotly': ['https://cdn.plot.ly/plotly-latest.min']\n",
              "            }\n",
              "        });\n",
              "        require(['plotly'], function(Plotly) {\n",
              "            window._Plotly = Plotly;\n",
              "        });\n",
              "        }\n",
              "        </script>\n",
              "        "
            ]
          },
          "metadata": {
            "tags": []
          }
        },
        {
          "output_type": "display_data",
          "data": {
            "text/html": [
              "<html>\n",
              "<head><meta charset=\"utf-8\" /></head>\n",
              "<body>\n",
              "    <div>\n",
              "            <script src=\"https://cdnjs.cloudflare.com/ajax/libs/mathjax/2.7.5/MathJax.js?config=TeX-AMS-MML_SVG\"></script><script type=\"text/javascript\">if (window.MathJax) {MathJax.Hub.Config({SVG: {font: \"STIX-Web\"}});}</script>\n",
              "                <script type=\"text/javascript\">window.PlotlyConfig = {MathJaxConfig: 'local'};</script>\n",
              "        <script src=\"https://cdn.plot.ly/plotly-latest.min.js\"></script>    \n",
              "            <div id=\"60779f4e-ed85-4910-9fcc-5115351ede88\" class=\"plotly-graph-div\" style=\"height:525px; width:100%;\"></div>\n",
              "            <script type=\"text/javascript\">\n",
              "                \n",
              "                    window.PLOTLYENV=window.PLOTLYENV || {};\n",
              "                    window.PLOTLYENV.BASE_URL='https://plot.ly';\n",
              "                    \n",
              "                if (document.getElementById(\"60779f4e-ed85-4910-9fcc-5115351ede88\")) {\n",
              "                    Plotly.newPlot(\n",
              "                        '60779f4e-ed85-4910-9fcc-5115351ede88',\n",
              "                        [{\"line\": {\"color\": \"rgba(255, 153, 51, 1.0)\", \"dash\": \"solid\", \"shape\": \"linear\", \"width\": 1.3}, \"mode\": \"lines\", \"name\": \"Speed\", \"text\": \"\", \"type\": \"scatter\", \"x\": [0, 1, 2, 3, 4, 5, 6, 7, 8, 9, 10, 11, 12, 13, 14, 15, 16, 17, 18, 19, 20, 21, 22, 23, 24, 25, 26, 27, 28, 29, 30, 31, 32, 33, 34, 35, 36, 37, 38, 39, 40, 41, 42, 43, 44, 45, 46, 47, 48, 49], \"y\": [0.8044117189368719, 0.7330345927019082, 1.378258519842831, 1.546300544522392, 1.5356460906878462, 1.5604307271252311, 1.5482584362751382, 1.4929999999999999, 1.5155555555555553, 1.44, 1.390909090909091, 1.2954545454545459, 1.364545454545455, 1.3957142857142857, 1.391818181818182, 1.3933333333333333, 1.3957142857142857, 1.4068749999999999, 1.3957142857142857, 1.4253846153846155, 1.4266666666666663, 1.3083333333333336, 1.2889473684210526, 1.31, 1.3172727272727276, 1.3100000000000003, 1.3100000000000003, 1.3099999999999996, 1.3344999999999998, 1.31, 1.3052631578947367, 1.3099999999999998, 1.3099999999999998, 1.3100000000000003, 1.307142857142857, 1.3049999999999997, 1.3100000000000003, 1.279, 1.27047619047619, 1.23, 1.2461538461538464, 1.2821052631578944, 1.2768750000000002, 1.3026086956521739, 1.276875, 1.264705882352941, 1.2617647058823527, 1.2509090909090905, 1.2713333333333334, 1.294736842105263]}, {\"line\": {\"color\": \"rgba(55, 128, 191, 1.0)\", \"dash\": \"solid\", \"shape\": \"linear\", \"width\": 1.3}, \"mode\": \"lines\", \"name\": \"Size\", \"text\": \"\", \"type\": \"scatter\", \"x\": [0, 1, 2, 3, 4, 5, 6, 7, 8, 9, 10, 11, 12, 13, 14, 15, 16, 17, 18, 19, 20, 21, 22, 23, 24, 25, 26, 27, 28, 29, 30, 31, 32, 33, 34, 35, 36, 37, 38, 39, 40, 41, 42, 43, 44, 45, 46, 47, 48, 49], \"y\": [1.030802064497544, 1.4022801977902353, 1.55639970008503, 1.5573659093936583, 1.724434665716367, 1.9596231104775779, 1.9597738662865472, 2.0820000000000003, 2.1411111111111114, 2.217, 2.4054545454545457, 2.4063636363636367, 2.4790909090909095, 2.595, 2.5472727272727274, 2.5450000000000004, 2.5835714285714286, 2.6756250000000006, 3.0578571428571424, 3.323846153846154, 3.430000000000001, 3.545833333333334, 3.466842105263159, 3.5200000000000014, 3.5200000000000005, 3.520000000000001, 3.5509090909090917, 3.535454545454546, 3.5370000000000013, 3.5600000000000014, 3.5378947368421065, 3.557777777777779, 3.520000000000001, 3.520000000000001, 3.5042857142857153, 3.5200000000000005, 3.5669230769230778, 3.611500000000001, 3.5490476190476197, 3.555882352941178, 3.5669230769230778, 3.552105263157896, 3.5581250000000013, 3.544782608695652, 3.5962500000000013, 3.5917647058823543, 3.6276470588235306, 3.6586363636363632, 3.6420000000000012, 3.5842105263157906]}, {\"line\": {\"color\": \"rgba(50, 171, 96, 1.0)\", \"dash\": \"solid\", \"shape\": \"linear\", \"width\": 1.3}, \"mode\": \"lines\", \"name\": \"Vision\", \"text\": \"\", \"type\": \"scatter\", \"x\": [0, 1, 2, 3, 4, 5, 6, 7, 8, 9, 10, 11, 12, 13, 14, 15, 16, 17, 18, 19, 20, 21, 22, 23, 24, 25, 26, 27, 28, 29, 30, 31, 32, 33, 34, 35, 36, 37, 38, 39, 40, 41, 42, 43, 44, 45, 46, 47, 48, 49], \"y\": [2.380792477628522, 2.701147215584806, 2.142682418808742, 2.040664040844601, 2.769573111537661, 1.3497154076917741, 1.3498292446150644, 1.3499999999999999, 1.3499999999999999, 1.3499999999999999, 1.41, 1.41, 1.5899999999999999, 1.517857142857143, 1.4772727272727273, 1.4272222222222224, 1.4028571428571432, 1.3637500000000002, 1.2657142857142858, 1.326153846153846, 1.3361111111111115, 1.2533333333333334, 1.2763157894736843, 1.2980000000000003, 1.270909090909091, 1.2291666666666667, 1.270909090909091, 1.2213636363636364, 1.2310000000000003, 1.2305882352941175, 1.2310526315789474, 1.2477777777777777, 1.1999999999999997, 1.2257142857142855, 1.2671428571428573, 1.257727272727273, 1.2607692307692309, 1.2630000000000003, 1.2119047619047616, 1.2647058823529413, 1.2607692307692309, 1.2589473684210528, 1.241875, 1.2621739130434784, 1.2425, 1.2711764705882354, 1.2864705882352945, 1.333636363636364, 1.2980000000000003, 1.261578947368421]}],\n",
              "                        {\"legend\": {\"bgcolor\": \"#F5F6F9\", \"font\": {\"color\": \"#4D5663\"}}, \"paper_bgcolor\": \"#F5F6F9\", \"plot_bgcolor\": \"#F5F6F9\", \"template\": {\"data\": {\"bar\": [{\"error_x\": {\"color\": \"#2a3f5f\"}, \"error_y\": {\"color\": \"#2a3f5f\"}, \"marker\": {\"line\": {\"color\": \"#E5ECF6\", \"width\": 0.5}}, \"type\": \"bar\"}], \"barpolar\": [{\"marker\": {\"line\": {\"color\": \"#E5ECF6\", \"width\": 0.5}}, \"type\": \"barpolar\"}], \"carpet\": [{\"aaxis\": {\"endlinecolor\": \"#2a3f5f\", \"gridcolor\": \"white\", \"linecolor\": \"white\", \"minorgridcolor\": \"white\", \"startlinecolor\": \"#2a3f5f\"}, \"baxis\": {\"endlinecolor\": \"#2a3f5f\", \"gridcolor\": \"white\", \"linecolor\": \"white\", \"minorgridcolor\": \"white\", \"startlinecolor\": \"#2a3f5f\"}, \"type\": \"carpet\"}], \"choropleth\": [{\"colorbar\": {\"outlinewidth\": 0, \"ticks\": \"\"}, \"type\": \"choropleth\"}], \"contour\": [{\"colorbar\": {\"outlinewidth\": 0, \"ticks\": \"\"}, \"colorscale\": [[0.0, \"#0d0887\"], [0.1111111111111111, \"#46039f\"], [0.2222222222222222, \"#7201a8\"], [0.3333333333333333, \"#9c179e\"], [0.4444444444444444, \"#bd3786\"], [0.5555555555555556, \"#d8576b\"], [0.6666666666666666, \"#ed7953\"], [0.7777777777777778, \"#fb9f3a\"], [0.8888888888888888, \"#fdca26\"], [1.0, \"#f0f921\"]], \"type\": \"contour\"}], \"contourcarpet\": [{\"colorbar\": {\"outlinewidth\": 0, \"ticks\": \"\"}, \"type\": \"contourcarpet\"}], \"heatmap\": [{\"colorbar\": {\"outlinewidth\": 0, \"ticks\": \"\"}, \"colorscale\": [[0.0, \"#0d0887\"], [0.1111111111111111, \"#46039f\"], [0.2222222222222222, \"#7201a8\"], [0.3333333333333333, \"#9c179e\"], [0.4444444444444444, \"#bd3786\"], [0.5555555555555556, \"#d8576b\"], [0.6666666666666666, \"#ed7953\"], [0.7777777777777778, \"#fb9f3a\"], [0.8888888888888888, \"#fdca26\"], [1.0, \"#f0f921\"]], \"type\": \"heatmap\"}], \"heatmapgl\": [{\"colorbar\": {\"outlinewidth\": 0, \"ticks\": \"\"}, \"colorscale\": [[0.0, \"#0d0887\"], [0.1111111111111111, \"#46039f\"], [0.2222222222222222, \"#7201a8\"], [0.3333333333333333, \"#9c179e\"], [0.4444444444444444, \"#bd3786\"], [0.5555555555555556, \"#d8576b\"], [0.6666666666666666, \"#ed7953\"], [0.7777777777777778, \"#fb9f3a\"], [0.8888888888888888, \"#fdca26\"], [1.0, \"#f0f921\"]], \"type\": \"heatmapgl\"}], \"histogram\": [{\"marker\": {\"colorbar\": {\"outlinewidth\": 0, \"ticks\": \"\"}}, \"type\": \"histogram\"}], \"histogram2d\": [{\"colorbar\": {\"outlinewidth\": 0, \"ticks\": \"\"}, \"colorscale\": [[0.0, \"#0d0887\"], [0.1111111111111111, \"#46039f\"], [0.2222222222222222, \"#7201a8\"], [0.3333333333333333, \"#9c179e\"], [0.4444444444444444, \"#bd3786\"], [0.5555555555555556, \"#d8576b\"], [0.6666666666666666, \"#ed7953\"], [0.7777777777777778, \"#fb9f3a\"], [0.8888888888888888, \"#fdca26\"], [1.0, \"#f0f921\"]], \"type\": \"histogram2d\"}], \"histogram2dcontour\": [{\"colorbar\": {\"outlinewidth\": 0, \"ticks\": \"\"}, \"colorscale\": [[0.0, \"#0d0887\"], [0.1111111111111111, \"#46039f\"], [0.2222222222222222, \"#7201a8\"], [0.3333333333333333, \"#9c179e\"], [0.4444444444444444, \"#bd3786\"], [0.5555555555555556, \"#d8576b\"], [0.6666666666666666, \"#ed7953\"], [0.7777777777777778, \"#fb9f3a\"], [0.8888888888888888, \"#fdca26\"], [1.0, \"#f0f921\"]], \"type\": \"histogram2dcontour\"}], \"mesh3d\": [{\"colorbar\": {\"outlinewidth\": 0, \"ticks\": \"\"}, \"type\": \"mesh3d\"}], \"parcoords\": [{\"line\": {\"colorbar\": {\"outlinewidth\": 0, \"ticks\": \"\"}}, \"type\": \"parcoords\"}], \"pie\": [{\"automargin\": true, \"type\": \"pie\"}], \"scatter\": [{\"marker\": {\"colorbar\": {\"outlinewidth\": 0, \"ticks\": \"\"}}, \"type\": \"scatter\"}], \"scatter3d\": [{\"line\": {\"colorbar\": {\"outlinewidth\": 0, \"ticks\": \"\"}}, \"marker\": {\"colorbar\": {\"outlinewidth\": 0, \"ticks\": \"\"}}, \"type\": \"scatter3d\"}], \"scattercarpet\": [{\"marker\": {\"colorbar\": {\"outlinewidth\": 0, \"ticks\": \"\"}}, \"type\": \"scattercarpet\"}], \"scattergeo\": [{\"marker\": {\"colorbar\": {\"outlinewidth\": 0, \"ticks\": \"\"}}, \"type\": \"scattergeo\"}], \"scattergl\": [{\"marker\": {\"colorbar\": {\"outlinewidth\": 0, \"ticks\": \"\"}}, \"type\": \"scattergl\"}], \"scattermapbox\": [{\"marker\": {\"colorbar\": {\"outlinewidth\": 0, \"ticks\": \"\"}}, \"type\": \"scattermapbox\"}], \"scatterpolar\": [{\"marker\": {\"colorbar\": {\"outlinewidth\": 0, \"ticks\": \"\"}}, \"type\": \"scatterpolar\"}], \"scatterpolargl\": [{\"marker\": {\"colorbar\": {\"outlinewidth\": 0, \"ticks\": \"\"}}, \"type\": \"scatterpolargl\"}], \"scatterternary\": [{\"marker\": {\"colorbar\": {\"outlinewidth\": 0, \"ticks\": \"\"}}, \"type\": \"scatterternary\"}], \"surface\": [{\"colorbar\": {\"outlinewidth\": 0, \"ticks\": \"\"}, \"colorscale\": [[0.0, \"#0d0887\"], [0.1111111111111111, \"#46039f\"], [0.2222222222222222, \"#7201a8\"], [0.3333333333333333, \"#9c179e\"], [0.4444444444444444, \"#bd3786\"], [0.5555555555555556, \"#d8576b\"], [0.6666666666666666, \"#ed7953\"], [0.7777777777777778, \"#fb9f3a\"], [0.8888888888888888, \"#fdca26\"], [1.0, \"#f0f921\"]], \"type\": \"surface\"}], \"table\": [{\"cells\": {\"fill\": {\"color\": \"#EBF0F8\"}, \"line\": {\"color\": \"white\"}}, \"header\": {\"fill\": {\"color\": \"#C8D4E3\"}, \"line\": {\"color\": \"white\"}}, \"type\": \"table\"}]}, \"layout\": {\"annotationdefaults\": {\"arrowcolor\": \"#2a3f5f\", \"arrowhead\": 0, \"arrowwidth\": 1}, \"coloraxis\": {\"colorbar\": {\"outlinewidth\": 0, \"ticks\": \"\"}}, \"colorscale\": {\"diverging\": [[0, \"#8e0152\"], [0.1, \"#c51b7d\"], [0.2, \"#de77ae\"], [0.3, \"#f1b6da\"], [0.4, \"#fde0ef\"], [0.5, \"#f7f7f7\"], [0.6, \"#e6f5d0\"], [0.7, \"#b8e186\"], [0.8, \"#7fbc41\"], [0.9, \"#4d9221\"], [1, \"#276419\"]], \"sequential\": [[0.0, \"#0d0887\"], [0.1111111111111111, \"#46039f\"], [0.2222222222222222, \"#7201a8\"], [0.3333333333333333, \"#9c179e\"], [0.4444444444444444, \"#bd3786\"], [0.5555555555555556, \"#d8576b\"], [0.6666666666666666, \"#ed7953\"], [0.7777777777777778, \"#fb9f3a\"], [0.8888888888888888, \"#fdca26\"], [1.0, \"#f0f921\"]], \"sequentialminus\": [[0.0, \"#0d0887\"], [0.1111111111111111, \"#46039f\"], [0.2222222222222222, \"#7201a8\"], [0.3333333333333333, \"#9c179e\"], [0.4444444444444444, \"#bd3786\"], [0.5555555555555556, \"#d8576b\"], [0.6666666666666666, \"#ed7953\"], [0.7777777777777778, \"#fb9f3a\"], [0.8888888888888888, \"#fdca26\"], [1.0, \"#f0f921\"]]}, \"colorway\": [\"#636efa\", \"#EF553B\", \"#00cc96\", \"#ab63fa\", \"#FFA15A\", \"#19d3f3\", \"#FF6692\", \"#B6E880\", \"#FF97FF\", \"#FECB52\"], \"font\": {\"color\": \"#2a3f5f\"}, \"geo\": {\"bgcolor\": \"white\", \"lakecolor\": \"white\", \"landcolor\": \"#E5ECF6\", \"showlakes\": true, \"showland\": true, \"subunitcolor\": \"white\"}, \"hoverlabel\": {\"align\": \"left\"}, \"hovermode\": \"closest\", \"mapbox\": {\"style\": \"light\"}, \"paper_bgcolor\": \"white\", \"plot_bgcolor\": \"#E5ECF6\", \"polar\": {\"angularaxis\": {\"gridcolor\": \"white\", \"linecolor\": \"white\", \"ticks\": \"\"}, \"bgcolor\": \"#E5ECF6\", \"radialaxis\": {\"gridcolor\": \"white\", \"linecolor\": \"white\", \"ticks\": \"\"}}, \"scene\": {\"xaxis\": {\"backgroundcolor\": \"#E5ECF6\", \"gridcolor\": \"white\", \"gridwidth\": 2, \"linecolor\": \"white\", \"showbackground\": true, \"ticks\": \"\", \"zerolinecolor\": \"white\"}, \"yaxis\": {\"backgroundcolor\": \"#E5ECF6\", \"gridcolor\": \"white\", \"gridwidth\": 2, \"linecolor\": \"white\", \"showbackground\": true, \"ticks\": \"\", \"zerolinecolor\": \"white\"}, \"zaxis\": {\"backgroundcolor\": \"#E5ECF6\", \"gridcolor\": \"white\", \"gridwidth\": 2, \"linecolor\": \"white\", \"showbackground\": true, \"ticks\": \"\", \"zerolinecolor\": \"white\"}}, \"shapedefaults\": {\"line\": {\"color\": \"#2a3f5f\"}}, \"ternary\": {\"aaxis\": {\"gridcolor\": \"white\", \"linecolor\": \"white\", \"ticks\": \"\"}, \"baxis\": {\"gridcolor\": \"white\", \"linecolor\": \"white\", \"ticks\": \"\"}, \"bgcolor\": \"#E5ECF6\", \"caxis\": {\"gridcolor\": \"white\", \"linecolor\": \"white\", \"ticks\": \"\"}}, \"title\": {\"x\": 0.05}, \"xaxis\": {\"automargin\": true, \"gridcolor\": \"white\", \"linecolor\": \"white\", \"ticks\": \"\", \"title\": {\"standoff\": 15}, \"zerolinecolor\": \"white\", \"zerolinewidth\": 2}, \"yaxis\": {\"automargin\": true, \"gridcolor\": \"white\", \"linecolor\": \"white\", \"ticks\": \"\", \"title\": {\"standoff\": 15}, \"zerolinecolor\": \"white\", \"zerolinewidth\": 2}}}, \"title\": {\"font\": {\"color\": \"#4D5663\"}, \"text\": \"Trait Evolution\"}, \"xaxis\": {\"gridcolor\": \"#E1E5ED\", \"showgrid\": true, \"tickfont\": {\"color\": \"#4D5663\"}, \"title\": {\"font\": {\"color\": \"#4D5663\"}, \"text\": \"Generations\"}, \"zerolinecolor\": \"#E1E5ED\"}, \"yaxis\": {\"gridcolor\": \"#E1E5ED\", \"showgrid\": true, \"tickfont\": {\"color\": \"#4D5663\"}, \"title\": {\"font\": {\"color\": \"#4D5663\"}, \"text\": \"Average Value\"}, \"zerolinecolor\": \"#E1E5ED\"}},\n",
              "                        {\"showLink\": true, \"linkText\": \"Export to plot.ly\", \"plotlyServerURL\": \"https://plot.ly\", \"responsive\": true}\n",
              "                    ).then(function(){\n",
              "                            \n",
              "var gd = document.getElementById('60779f4e-ed85-4910-9fcc-5115351ede88');\n",
              "var x = new MutationObserver(function (mutations, observer) {{\n",
              "        var display = window.getComputedStyle(gd).display;\n",
              "        if (!display || display === 'none') {{\n",
              "            console.log([gd, 'removed!']);\n",
              "            Plotly.purge(gd);\n",
              "            observer.disconnect();\n",
              "        }}\n",
              "}});\n",
              "\n",
              "// Listen for the removal of the full notebook cells\n",
              "var notebookContainer = gd.closest('#notebook-container');\n",
              "if (notebookContainer) {{\n",
              "    x.observe(notebookContainer, {childList: true});\n",
              "}}\n",
              "\n",
              "// Listen for the clearing of the current output cell\n",
              "var outputEl = gd.closest('.output');\n",
              "if (outputEl) {{\n",
              "    x.observe(outputEl, {childList: true});\n",
              "}}\n",
              "\n",
              "                        })\n",
              "                };\n",
              "                \n",
              "            </script>\n",
              "        </div>\n",
              "</body>\n",
              "</html>"
            ]
          },
          "metadata": {
            "tags": []
          }
        }
      ]
    },
    {
      "cell_type": "code",
      "metadata": {
        "colab": {
          "base_uri": "https://localhost:8080/",
          "height": 542
        },
        "id": "RlhJmHSTPZFN",
        "outputId": "c04b5263-25b2-4899-852c-b21b76412d38"
      },
      "source": [
        "df.iplot(kind='line',y=['Population','Food Eaten','Cannibalism'], xTitle= 'Generations',yTitle='Organisms', title='Population Statistics')"
      ],
      "execution_count": null,
      "outputs": [
        {
          "output_type": "display_data",
          "data": {
            "text/html": [
              "<html>\n",
              "<head><meta charset=\"utf-8\" /></head>\n",
              "<body>\n",
              "    <div>\n",
              "            <script src=\"https://cdnjs.cloudflare.com/ajax/libs/mathjax/2.7.5/MathJax.js?config=TeX-AMS-MML_SVG\"></script><script type=\"text/javascript\">if (window.MathJax) {MathJax.Hub.Config({SVG: {font: \"STIX-Web\"}});}</script>\n",
              "                <script type=\"text/javascript\">window.PlotlyConfig = {MathJaxConfig: 'local'};</script>\n",
              "        <script src=\"https://cdn.plot.ly/plotly-latest.min.js\"></script>    \n",
              "            <div id=\"ffe1ce43-7c09-4123-8d52-3445932f1a80\" class=\"plotly-graph-div\" style=\"height:525px; width:100%;\"></div>\n",
              "            <script type=\"text/javascript\">\n",
              "                \n",
              "                    window.PLOTLYENV=window.PLOTLYENV || {};\n",
              "                    window.PLOTLYENV.BASE_URL='https://plot.ly';\n",
              "                    \n",
              "                if (document.getElementById(\"ffe1ce43-7c09-4123-8d52-3445932f1a80\")) {\n",
              "                    Plotly.newPlot(\n",
              "                        'ffe1ce43-7c09-4123-8d52-3445932f1a80',\n",
              "                        [{\"line\": {\"color\": \"rgba(255, 153, 51, 1.0)\", \"dash\": \"solid\", \"shape\": \"linear\", \"width\": 1.3}, \"mode\": \"lines\", \"name\": \"Population\", \"text\": \"\", \"type\": \"scatter\", \"x\": [0, 1, 2, 3, 4, 5, 6, 7, 8, 9, 10, 11, 12, 13, 14, 15, 16, 17, 18, 19, 20, 21, 22, 23, 24, 25, 26, 27, 28, 29, 30, 31, 32, 33, 34, 35, 36, 37, 38, 39, 40, 41, 42, 43, 44, 45, 46, 47, 48, 49], \"y\": [15, 8, 6, 7, 4, 6, 10, 10, 9, 10, 11, 11, 11, 14, 11, 18, 14, 16, 14, 13, 18, 12, 19, 15, 11, 12, 11, 22, 20, 17, 19, 18, 20, 14, 21, 22, 13, 20, 21, 17, 13, 19, 16, 23, 16, 17, 17, 22, 15, 19]}, {\"line\": {\"color\": \"rgba(55, 128, 191, 1.0)\", \"dash\": \"solid\", \"shape\": \"linear\", \"width\": 1.3}, \"mode\": \"lines\", \"name\": \"Food Eaten\", \"text\": \"\", \"type\": \"scatter\", \"x\": [0, 1, 2, 3, 4, 5, 6, 7, 8, 9, 10, 11, 12, 13, 14, 15, 16, 17, 18, 19, 20, 21, 22, 23, 24, 25, 26, 27, 28, 29, 30, 31, 32, 33, 34, 35, 36, 37, 38, 39, 40, 41, 42, 43, 44, 45, 46, 47, 48, 49], \"y\": [30, 21, 28, 23, 16, 28, 30, 29, 30, 29, 23, 17, 29, 30, 30, 30, 30, 30, 29, 26, 27, 30, 29, 29, 26, 28, 30, 29, 30, 30, 30, 30, 30, 30, 30, 30, 29, 30, 30, 30, 30, 30, 30, 30, 30, 30, 30, 30, 30, 30]}, {\"line\": {\"color\": \"rgba(50, 171, 96, 1.0)\", \"dash\": \"solid\", \"shape\": \"linear\", \"width\": 1.3}, \"mode\": \"lines\", \"name\": \"Cannibalism\", \"text\": \"\", \"type\": \"scatter\", \"x\": [0, 1, 2, 3, 4, 5, 6, 7, 8, 9, 10, 11, 12, 13, 14, 15, 16, 17, 18, 19, 20, 21, 22, 23, 24, 25, 26, 27, 28, 29, 30, 31, 32, 33, 34, 35, 36, 37, 38, 39, 40, 41, 42, 43, 44, 45, 46, 47, 48, 49], \"y\": [7, 1, 0, 2, 2, 0, 2, 5, 8, 1, 1, 0, 2, 1, 0, 2, 4, 6, 3, 0, 0, 0, 0, 0, 0, 0, 0, 0, 0, 0, 0, 0, 0, 0, 0, 1, 0, 0, 0, 0, 0, 1, 0, 0, 0, 0, 0, 0, 0, 0]}],\n",
              "                        {\"legend\": {\"bgcolor\": \"#F5F6F9\", \"font\": {\"color\": \"#4D5663\"}}, \"paper_bgcolor\": \"#F5F6F9\", \"plot_bgcolor\": \"#F5F6F9\", \"template\": {\"data\": {\"bar\": [{\"error_x\": {\"color\": \"#2a3f5f\"}, \"error_y\": {\"color\": \"#2a3f5f\"}, \"marker\": {\"line\": {\"color\": \"#E5ECF6\", \"width\": 0.5}}, \"type\": \"bar\"}], \"barpolar\": [{\"marker\": {\"line\": {\"color\": \"#E5ECF6\", \"width\": 0.5}}, \"type\": \"barpolar\"}], \"carpet\": [{\"aaxis\": {\"endlinecolor\": \"#2a3f5f\", \"gridcolor\": \"white\", \"linecolor\": \"white\", \"minorgridcolor\": \"white\", \"startlinecolor\": \"#2a3f5f\"}, \"baxis\": {\"endlinecolor\": \"#2a3f5f\", \"gridcolor\": \"white\", \"linecolor\": \"white\", \"minorgridcolor\": \"white\", \"startlinecolor\": \"#2a3f5f\"}, \"type\": \"carpet\"}], \"choropleth\": [{\"colorbar\": {\"outlinewidth\": 0, \"ticks\": \"\"}, \"type\": \"choropleth\"}], \"contour\": [{\"colorbar\": {\"outlinewidth\": 0, \"ticks\": \"\"}, \"colorscale\": [[0.0, \"#0d0887\"], [0.1111111111111111, \"#46039f\"], [0.2222222222222222, \"#7201a8\"], [0.3333333333333333, \"#9c179e\"], [0.4444444444444444, \"#bd3786\"], [0.5555555555555556, \"#d8576b\"], [0.6666666666666666, \"#ed7953\"], [0.7777777777777778, \"#fb9f3a\"], [0.8888888888888888, \"#fdca26\"], [1.0, \"#f0f921\"]], \"type\": \"contour\"}], \"contourcarpet\": [{\"colorbar\": {\"outlinewidth\": 0, \"ticks\": \"\"}, \"type\": \"contourcarpet\"}], \"heatmap\": [{\"colorbar\": {\"outlinewidth\": 0, \"ticks\": \"\"}, \"colorscale\": [[0.0, \"#0d0887\"], [0.1111111111111111, \"#46039f\"], [0.2222222222222222, \"#7201a8\"], [0.3333333333333333, \"#9c179e\"], [0.4444444444444444, \"#bd3786\"], [0.5555555555555556, \"#d8576b\"], [0.6666666666666666, \"#ed7953\"], [0.7777777777777778, \"#fb9f3a\"], [0.8888888888888888, \"#fdca26\"], [1.0, \"#f0f921\"]], \"type\": \"heatmap\"}], \"heatmapgl\": [{\"colorbar\": {\"outlinewidth\": 0, \"ticks\": \"\"}, \"colorscale\": [[0.0, \"#0d0887\"], [0.1111111111111111, \"#46039f\"], [0.2222222222222222, \"#7201a8\"], [0.3333333333333333, \"#9c179e\"], [0.4444444444444444, \"#bd3786\"], [0.5555555555555556, \"#d8576b\"], [0.6666666666666666, \"#ed7953\"], [0.7777777777777778, \"#fb9f3a\"], [0.8888888888888888, \"#fdca26\"], [1.0, \"#f0f921\"]], \"type\": \"heatmapgl\"}], \"histogram\": [{\"marker\": {\"colorbar\": {\"outlinewidth\": 0, \"ticks\": \"\"}}, \"type\": \"histogram\"}], \"histogram2d\": [{\"colorbar\": {\"outlinewidth\": 0, \"ticks\": \"\"}, \"colorscale\": [[0.0, \"#0d0887\"], [0.1111111111111111, \"#46039f\"], [0.2222222222222222, \"#7201a8\"], [0.3333333333333333, \"#9c179e\"], [0.4444444444444444, \"#bd3786\"], [0.5555555555555556, \"#d8576b\"], [0.6666666666666666, \"#ed7953\"], [0.7777777777777778, \"#fb9f3a\"], [0.8888888888888888, \"#fdca26\"], [1.0, \"#f0f921\"]], \"type\": \"histogram2d\"}], \"histogram2dcontour\": [{\"colorbar\": {\"outlinewidth\": 0, \"ticks\": \"\"}, \"colorscale\": [[0.0, \"#0d0887\"], [0.1111111111111111, \"#46039f\"], [0.2222222222222222, \"#7201a8\"], [0.3333333333333333, \"#9c179e\"], [0.4444444444444444, \"#bd3786\"], [0.5555555555555556, \"#d8576b\"], [0.6666666666666666, \"#ed7953\"], [0.7777777777777778, \"#fb9f3a\"], [0.8888888888888888, \"#fdca26\"], [1.0, \"#f0f921\"]], \"type\": \"histogram2dcontour\"}], \"mesh3d\": [{\"colorbar\": {\"outlinewidth\": 0, \"ticks\": \"\"}, \"type\": \"mesh3d\"}], \"parcoords\": [{\"line\": {\"colorbar\": {\"outlinewidth\": 0, \"ticks\": \"\"}}, \"type\": \"parcoords\"}], \"pie\": [{\"automargin\": true, \"type\": \"pie\"}], \"scatter\": [{\"marker\": {\"colorbar\": {\"outlinewidth\": 0, \"ticks\": \"\"}}, \"type\": \"scatter\"}], \"scatter3d\": [{\"line\": {\"colorbar\": {\"outlinewidth\": 0, \"ticks\": \"\"}}, \"marker\": {\"colorbar\": {\"outlinewidth\": 0, \"ticks\": \"\"}}, \"type\": \"scatter3d\"}], \"scattercarpet\": [{\"marker\": {\"colorbar\": {\"outlinewidth\": 0, \"ticks\": \"\"}}, \"type\": \"scattercarpet\"}], \"scattergeo\": [{\"marker\": {\"colorbar\": {\"outlinewidth\": 0, \"ticks\": \"\"}}, \"type\": \"scattergeo\"}], \"scattergl\": [{\"marker\": {\"colorbar\": {\"outlinewidth\": 0, \"ticks\": \"\"}}, \"type\": \"scattergl\"}], \"scattermapbox\": [{\"marker\": {\"colorbar\": {\"outlinewidth\": 0, \"ticks\": \"\"}}, \"type\": \"scattermapbox\"}], \"scatterpolar\": [{\"marker\": {\"colorbar\": {\"outlinewidth\": 0, \"ticks\": \"\"}}, \"type\": \"scatterpolar\"}], \"scatterpolargl\": [{\"marker\": {\"colorbar\": {\"outlinewidth\": 0, \"ticks\": \"\"}}, \"type\": \"scatterpolargl\"}], \"scatterternary\": [{\"marker\": {\"colorbar\": {\"outlinewidth\": 0, \"ticks\": \"\"}}, \"type\": \"scatterternary\"}], \"surface\": [{\"colorbar\": {\"outlinewidth\": 0, \"ticks\": \"\"}, \"colorscale\": [[0.0, \"#0d0887\"], [0.1111111111111111, \"#46039f\"], [0.2222222222222222, \"#7201a8\"], [0.3333333333333333, \"#9c179e\"], [0.4444444444444444, \"#bd3786\"], [0.5555555555555556, \"#d8576b\"], [0.6666666666666666, \"#ed7953\"], [0.7777777777777778, \"#fb9f3a\"], [0.8888888888888888, \"#fdca26\"], [1.0, \"#f0f921\"]], \"type\": \"surface\"}], \"table\": [{\"cells\": {\"fill\": {\"color\": \"#EBF0F8\"}, \"line\": {\"color\": \"white\"}}, \"header\": {\"fill\": {\"color\": \"#C8D4E3\"}, \"line\": {\"color\": \"white\"}}, \"type\": \"table\"}]}, \"layout\": {\"annotationdefaults\": {\"arrowcolor\": \"#2a3f5f\", \"arrowhead\": 0, \"arrowwidth\": 1}, \"coloraxis\": {\"colorbar\": {\"outlinewidth\": 0, \"ticks\": \"\"}}, \"colorscale\": {\"diverging\": [[0, \"#8e0152\"], [0.1, \"#c51b7d\"], [0.2, \"#de77ae\"], [0.3, \"#f1b6da\"], [0.4, \"#fde0ef\"], [0.5, \"#f7f7f7\"], [0.6, \"#e6f5d0\"], [0.7, \"#b8e186\"], [0.8, \"#7fbc41\"], [0.9, \"#4d9221\"], [1, \"#276419\"]], \"sequential\": [[0.0, \"#0d0887\"], [0.1111111111111111, \"#46039f\"], [0.2222222222222222, \"#7201a8\"], [0.3333333333333333, \"#9c179e\"], [0.4444444444444444, \"#bd3786\"], [0.5555555555555556, \"#d8576b\"], [0.6666666666666666, \"#ed7953\"], [0.7777777777777778, \"#fb9f3a\"], [0.8888888888888888, \"#fdca26\"], [1.0, \"#f0f921\"]], \"sequentialminus\": [[0.0, \"#0d0887\"], [0.1111111111111111, \"#46039f\"], [0.2222222222222222, \"#7201a8\"], [0.3333333333333333, \"#9c179e\"], [0.4444444444444444, \"#bd3786\"], [0.5555555555555556, \"#d8576b\"], [0.6666666666666666, \"#ed7953\"], [0.7777777777777778, \"#fb9f3a\"], [0.8888888888888888, \"#fdca26\"], [1.0, \"#f0f921\"]]}, \"colorway\": [\"#636efa\", \"#EF553B\", \"#00cc96\", \"#ab63fa\", \"#FFA15A\", \"#19d3f3\", \"#FF6692\", \"#B6E880\", \"#FF97FF\", \"#FECB52\"], \"font\": {\"color\": \"#2a3f5f\"}, \"geo\": {\"bgcolor\": \"white\", \"lakecolor\": \"white\", \"landcolor\": \"#E5ECF6\", \"showlakes\": true, \"showland\": true, \"subunitcolor\": \"white\"}, \"hoverlabel\": {\"align\": \"left\"}, \"hovermode\": \"closest\", \"mapbox\": {\"style\": \"light\"}, \"paper_bgcolor\": \"white\", \"plot_bgcolor\": \"#E5ECF6\", \"polar\": {\"angularaxis\": {\"gridcolor\": \"white\", \"linecolor\": \"white\", \"ticks\": \"\"}, \"bgcolor\": \"#E5ECF6\", \"radialaxis\": {\"gridcolor\": \"white\", \"linecolor\": \"white\", \"ticks\": \"\"}}, \"scene\": {\"xaxis\": {\"backgroundcolor\": \"#E5ECF6\", \"gridcolor\": \"white\", \"gridwidth\": 2, \"linecolor\": \"white\", \"showbackground\": true, \"ticks\": \"\", \"zerolinecolor\": \"white\"}, \"yaxis\": {\"backgroundcolor\": \"#E5ECF6\", \"gridcolor\": \"white\", \"gridwidth\": 2, \"linecolor\": \"white\", \"showbackground\": true, \"ticks\": \"\", \"zerolinecolor\": \"white\"}, \"zaxis\": {\"backgroundcolor\": \"#E5ECF6\", \"gridcolor\": \"white\", \"gridwidth\": 2, \"linecolor\": \"white\", \"showbackground\": true, \"ticks\": \"\", \"zerolinecolor\": \"white\"}}, \"shapedefaults\": {\"line\": {\"color\": \"#2a3f5f\"}}, \"ternary\": {\"aaxis\": {\"gridcolor\": \"white\", \"linecolor\": \"white\", \"ticks\": \"\"}, \"baxis\": {\"gridcolor\": \"white\", \"linecolor\": \"white\", \"ticks\": \"\"}, \"bgcolor\": \"#E5ECF6\", \"caxis\": {\"gridcolor\": \"white\", \"linecolor\": \"white\", \"ticks\": \"\"}}, \"title\": {\"x\": 0.05}, \"xaxis\": {\"automargin\": true, \"gridcolor\": \"white\", \"linecolor\": \"white\", \"ticks\": \"\", \"title\": {\"standoff\": 15}, \"zerolinecolor\": \"white\", \"zerolinewidth\": 2}, \"yaxis\": {\"automargin\": true, \"gridcolor\": \"white\", \"linecolor\": \"white\", \"ticks\": \"\", \"title\": {\"standoff\": 15}, \"zerolinecolor\": \"white\", \"zerolinewidth\": 2}}}, \"title\": {\"font\": {\"color\": \"#4D5663\"}, \"text\": \"Population Statistics\"}, \"xaxis\": {\"gridcolor\": \"#E1E5ED\", \"showgrid\": true, \"tickfont\": {\"color\": \"#4D5663\"}, \"title\": {\"font\": {\"color\": \"#4D5663\"}, \"text\": \"Generations\"}, \"zerolinecolor\": \"#E1E5ED\"}, \"yaxis\": {\"gridcolor\": \"#E1E5ED\", \"showgrid\": true, \"tickfont\": {\"color\": \"#4D5663\"}, \"title\": {\"font\": {\"color\": \"#4D5663\"}, \"text\": \"Organisms\"}, \"zerolinecolor\": \"#E1E5ED\"}},\n",
              "                        {\"showLink\": true, \"linkText\": \"Export to plot.ly\", \"plotlyServerURL\": \"https://plot.ly\", \"responsive\": true}\n",
              "                    ).then(function(){\n",
              "                            \n",
              "var gd = document.getElementById('ffe1ce43-7c09-4123-8d52-3445932f1a80');\n",
              "var x = new MutationObserver(function (mutations, observer) {{\n",
              "        var display = window.getComputedStyle(gd).display;\n",
              "        if (!display || display === 'none') {{\n",
              "            console.log([gd, 'removed!']);\n",
              "            Plotly.purge(gd);\n",
              "            observer.disconnect();\n",
              "        }}\n",
              "}});\n",
              "\n",
              "// Listen for the removal of the full notebook cells\n",
              "var notebookContainer = gd.closest('#notebook-container');\n",
              "if (notebookContainer) {{\n",
              "    x.observe(notebookContainer, {childList: true});\n",
              "}}\n",
              "\n",
              "// Listen for the clearing of the current output cell\n",
              "var outputEl = gd.closest('.output');\n",
              "if (outputEl) {{\n",
              "    x.observe(outputEl, {childList: true});\n",
              "}}\n",
              "\n",
              "                        })\n",
              "                };\n",
              "                \n",
              "            </script>\n",
              "        </div>\n",
              "</body>\n",
              "</html>"
            ]
          },
          "metadata": {
            "tags": []
          }
        }
      ]
    },
    {
      "cell_type": "code",
      "metadata": {
        "colab": {
          "base_uri": "https://localhost:8080/",
          "height": 542
        },
        "id": "GZS3Vwu2PV-v",
        "outputId": "0f2084ca-52aa-475f-92dd-b12566aa018a"
      },
      "source": [
        "import plotly.express as px\n",
        "finalOrgs = pd.DataFrame(bestOrgs, columns=['Size','Speed','Vision','Age','Fitness'])\n",
        "finalOrgs.describe()\n",
        "finalOrgs.to_csv(\"finalOrgs.csv\")\n",
        "fig = px.scatter_3d(finalOrgs, x='Size', y='Speed', z='Vision', title = 'Final Generation Traits')\n",
        "fig.show()"
      ],
      "execution_count": null,
      "outputs": [
        {
          "output_type": "display_data",
          "data": {
            "text/html": [
              "<html>\n",
              "<head><meta charset=\"utf-8\" /></head>\n",
              "<body>\n",
              "    <div>\n",
              "            <script src=\"https://cdnjs.cloudflare.com/ajax/libs/mathjax/2.7.5/MathJax.js?config=TeX-AMS-MML_SVG\"></script><script type=\"text/javascript\">if (window.MathJax) {MathJax.Hub.Config({SVG: {font: \"STIX-Web\"}});}</script>\n",
              "                <script type=\"text/javascript\">window.PlotlyConfig = {MathJaxConfig: 'local'};</script>\n",
              "        <script src=\"https://cdn.plot.ly/plotly-latest.min.js\"></script>    \n",
              "            <div id=\"9ab92f7c-c7dd-483c-a782-7a439a067b5d\" class=\"plotly-graph-div\" style=\"height:525px; width:100%;\"></div>\n",
              "            <script type=\"text/javascript\">\n",
              "                \n",
              "                    window.PLOTLYENV=window.PLOTLYENV || {};\n",
              "                    \n",
              "                if (document.getElementById(\"9ab92f7c-c7dd-483c-a782-7a439a067b5d\")) {\n",
              "                    Plotly.newPlot(\n",
              "                        '9ab92f7c-c7dd-483c-a782-7a439a067b5d',\n",
              "                        [{\"hoverlabel\": {\"namelength\": 0}, \"hovertemplate\": \"Size=%{x}<br>Speed=%{y}<br>Vision=%{z}\", \"legendgroup\": \"\", \"marker\": {\"color\": \"#636efa\", \"symbol\": \"circle\"}, \"mode\": \"markers\", \"name\": \"\", \"scene\": \"scene\", \"showlegend\": false, \"type\": \"scatter3d\", \"x\": [3.52, 4.13, 3.52, 3.52, 3.52, 3.52, 3.52, 3.52, 3.52, 4.13, 3.52, 3.52, 2.99, 3.52, 3.52, 3.52, 3.52, 3.52, 4.13, 4.13], \"y\": [1.31, 1.02, 1.31, 1.31, 1.6, 1.31, 1.31, 1.31, 1.31, 1.02, 1.31, 1.31, 1.31, 1.31, 1.31, 1.31, 1.31, 1.31, 1.02, 0.92], \"z\": [1.06, 1.35, 1.06, 1.35, 1.35, 1.12, 1.35, 1.35, 1.35, 1.35, 1.35, 1.35, 1.06, 1.35, 1.06, 1.35, 1.35, 1.35, 1.35, 1.35]}],\n",
              "                        {\"legend\": {\"tracegroupgap\": 0}, \"scene\": {\"domain\": {\"x\": [0.0, 1.0], \"y\": [0.0, 1.0]}, \"xaxis\": {\"title\": {\"text\": \"Size\"}}, \"yaxis\": {\"title\": {\"text\": \"Speed\"}}, \"zaxis\": {\"title\": {\"text\": \"Vision\"}}}, \"template\": {\"data\": {\"bar\": [{\"error_x\": {\"color\": \"#2a3f5f\"}, \"error_y\": {\"color\": \"#2a3f5f\"}, \"marker\": {\"line\": {\"color\": \"#E5ECF6\", \"width\": 0.5}}, \"type\": \"bar\"}], \"barpolar\": [{\"marker\": {\"line\": {\"color\": \"#E5ECF6\", \"width\": 0.5}}, \"type\": \"barpolar\"}], \"carpet\": [{\"aaxis\": {\"endlinecolor\": \"#2a3f5f\", \"gridcolor\": \"white\", \"linecolor\": \"white\", \"minorgridcolor\": \"white\", \"startlinecolor\": \"#2a3f5f\"}, \"baxis\": {\"endlinecolor\": \"#2a3f5f\", \"gridcolor\": \"white\", \"linecolor\": \"white\", \"minorgridcolor\": \"white\", \"startlinecolor\": \"#2a3f5f\"}, \"type\": \"carpet\"}], \"choropleth\": [{\"colorbar\": {\"outlinewidth\": 0, \"ticks\": \"\"}, \"type\": \"choropleth\"}], \"contour\": [{\"colorbar\": {\"outlinewidth\": 0, \"ticks\": \"\"}, \"colorscale\": [[0.0, \"#0d0887\"], [0.1111111111111111, \"#46039f\"], [0.2222222222222222, \"#7201a8\"], [0.3333333333333333, \"#9c179e\"], [0.4444444444444444, \"#bd3786\"], [0.5555555555555556, \"#d8576b\"], [0.6666666666666666, \"#ed7953\"], [0.7777777777777778, \"#fb9f3a\"], [0.8888888888888888, \"#fdca26\"], [1.0, \"#f0f921\"]], \"type\": \"contour\"}], \"contourcarpet\": [{\"colorbar\": {\"outlinewidth\": 0, \"ticks\": \"\"}, \"type\": \"contourcarpet\"}], \"heatmap\": [{\"colorbar\": {\"outlinewidth\": 0, \"ticks\": \"\"}, \"colorscale\": [[0.0, \"#0d0887\"], [0.1111111111111111, \"#46039f\"], [0.2222222222222222, \"#7201a8\"], [0.3333333333333333, \"#9c179e\"], [0.4444444444444444, \"#bd3786\"], [0.5555555555555556, \"#d8576b\"], [0.6666666666666666, \"#ed7953\"], [0.7777777777777778, \"#fb9f3a\"], [0.8888888888888888, \"#fdca26\"], [1.0, \"#f0f921\"]], \"type\": \"heatmap\"}], \"heatmapgl\": [{\"colorbar\": {\"outlinewidth\": 0, \"ticks\": \"\"}, \"colorscale\": [[0.0, \"#0d0887\"], [0.1111111111111111, \"#46039f\"], [0.2222222222222222, \"#7201a8\"], [0.3333333333333333, \"#9c179e\"], [0.4444444444444444, \"#bd3786\"], [0.5555555555555556, \"#d8576b\"], [0.6666666666666666, \"#ed7953\"], [0.7777777777777778, \"#fb9f3a\"], [0.8888888888888888, \"#fdca26\"], [1.0, \"#f0f921\"]], \"type\": \"heatmapgl\"}], \"histogram\": [{\"marker\": {\"colorbar\": {\"outlinewidth\": 0, \"ticks\": \"\"}}, \"type\": \"histogram\"}], \"histogram2d\": [{\"colorbar\": {\"outlinewidth\": 0, \"ticks\": \"\"}, \"colorscale\": [[0.0, \"#0d0887\"], [0.1111111111111111, \"#46039f\"], [0.2222222222222222, \"#7201a8\"], [0.3333333333333333, \"#9c179e\"], [0.4444444444444444, \"#bd3786\"], [0.5555555555555556, \"#d8576b\"], [0.6666666666666666, \"#ed7953\"], [0.7777777777777778, \"#fb9f3a\"], [0.8888888888888888, \"#fdca26\"], [1.0, \"#f0f921\"]], \"type\": \"histogram2d\"}], \"histogram2dcontour\": [{\"colorbar\": {\"outlinewidth\": 0, \"ticks\": \"\"}, \"colorscale\": [[0.0, \"#0d0887\"], [0.1111111111111111, \"#46039f\"], [0.2222222222222222, \"#7201a8\"], [0.3333333333333333, \"#9c179e\"], [0.4444444444444444, \"#bd3786\"], [0.5555555555555556, \"#d8576b\"], [0.6666666666666666, \"#ed7953\"], [0.7777777777777778, \"#fb9f3a\"], [0.8888888888888888, \"#fdca26\"], [1.0, \"#f0f921\"]], \"type\": \"histogram2dcontour\"}], \"mesh3d\": [{\"colorbar\": {\"outlinewidth\": 0, \"ticks\": \"\"}, \"type\": \"mesh3d\"}], \"parcoords\": [{\"line\": {\"colorbar\": {\"outlinewidth\": 0, \"ticks\": \"\"}}, \"type\": \"parcoords\"}], \"pie\": [{\"automargin\": true, \"type\": \"pie\"}], \"scatter\": [{\"marker\": {\"colorbar\": {\"outlinewidth\": 0, \"ticks\": \"\"}}, \"type\": \"scatter\"}], \"scatter3d\": [{\"line\": {\"colorbar\": {\"outlinewidth\": 0, \"ticks\": \"\"}}, \"marker\": {\"colorbar\": {\"outlinewidth\": 0, \"ticks\": \"\"}}, \"type\": \"scatter3d\"}], \"scattercarpet\": [{\"marker\": {\"colorbar\": {\"outlinewidth\": 0, \"ticks\": \"\"}}, \"type\": \"scattercarpet\"}], \"scattergeo\": [{\"marker\": {\"colorbar\": {\"outlinewidth\": 0, \"ticks\": \"\"}}, \"type\": \"scattergeo\"}], \"scattergl\": [{\"marker\": {\"colorbar\": {\"outlinewidth\": 0, \"ticks\": \"\"}}, \"type\": \"scattergl\"}], \"scattermapbox\": [{\"marker\": {\"colorbar\": {\"outlinewidth\": 0, \"ticks\": \"\"}}, \"type\": \"scattermapbox\"}], \"scatterpolar\": [{\"marker\": {\"colorbar\": {\"outlinewidth\": 0, \"ticks\": \"\"}}, \"type\": \"scatterpolar\"}], \"scatterpolargl\": [{\"marker\": {\"colorbar\": {\"outlinewidth\": 0, \"ticks\": \"\"}}, \"type\": \"scatterpolargl\"}], \"scatterternary\": [{\"marker\": {\"colorbar\": {\"outlinewidth\": 0, \"ticks\": \"\"}}, \"type\": \"scatterternary\"}], \"surface\": [{\"colorbar\": {\"outlinewidth\": 0, \"ticks\": \"\"}, \"colorscale\": [[0.0, \"#0d0887\"], [0.1111111111111111, \"#46039f\"], [0.2222222222222222, \"#7201a8\"], [0.3333333333333333, \"#9c179e\"], [0.4444444444444444, \"#bd3786\"], [0.5555555555555556, \"#d8576b\"], [0.6666666666666666, \"#ed7953\"], [0.7777777777777778, \"#fb9f3a\"], [0.8888888888888888, \"#fdca26\"], [1.0, \"#f0f921\"]], \"type\": \"surface\"}], \"table\": [{\"cells\": {\"fill\": {\"color\": \"#EBF0F8\"}, \"line\": {\"color\": \"white\"}}, \"header\": {\"fill\": {\"color\": \"#C8D4E3\"}, \"line\": {\"color\": \"white\"}}, \"type\": \"table\"}]}, \"layout\": {\"annotationdefaults\": {\"arrowcolor\": \"#2a3f5f\", \"arrowhead\": 0, \"arrowwidth\": 1}, \"coloraxis\": {\"colorbar\": {\"outlinewidth\": 0, \"ticks\": \"\"}}, \"colorscale\": {\"diverging\": [[0, \"#8e0152\"], [0.1, \"#c51b7d\"], [0.2, \"#de77ae\"], [0.3, \"#f1b6da\"], [0.4, \"#fde0ef\"], [0.5, \"#f7f7f7\"], [0.6, \"#e6f5d0\"], [0.7, \"#b8e186\"], [0.8, \"#7fbc41\"], [0.9, \"#4d9221\"], [1, \"#276419\"]], \"sequential\": [[0.0, \"#0d0887\"], [0.1111111111111111, \"#46039f\"], [0.2222222222222222, \"#7201a8\"], [0.3333333333333333, \"#9c179e\"], [0.4444444444444444, \"#bd3786\"], [0.5555555555555556, \"#d8576b\"], [0.6666666666666666, \"#ed7953\"], [0.7777777777777778, \"#fb9f3a\"], [0.8888888888888888, \"#fdca26\"], [1.0, \"#f0f921\"]], \"sequentialminus\": [[0.0, \"#0d0887\"], [0.1111111111111111, \"#46039f\"], [0.2222222222222222, \"#7201a8\"], [0.3333333333333333, \"#9c179e\"], [0.4444444444444444, \"#bd3786\"], [0.5555555555555556, \"#d8576b\"], [0.6666666666666666, \"#ed7953\"], [0.7777777777777778, \"#fb9f3a\"], [0.8888888888888888, \"#fdca26\"], [1.0, \"#f0f921\"]]}, \"colorway\": [\"#636efa\", \"#EF553B\", \"#00cc96\", \"#ab63fa\", \"#FFA15A\", \"#19d3f3\", \"#FF6692\", \"#B6E880\", \"#FF97FF\", \"#FECB52\"], \"font\": {\"color\": \"#2a3f5f\"}, \"geo\": {\"bgcolor\": \"white\", \"lakecolor\": \"white\", \"landcolor\": \"#E5ECF6\", \"showlakes\": true, \"showland\": true, \"subunitcolor\": \"white\"}, \"hoverlabel\": {\"align\": \"left\"}, \"hovermode\": \"closest\", \"mapbox\": {\"style\": \"light\"}, \"paper_bgcolor\": \"white\", \"plot_bgcolor\": \"#E5ECF6\", \"polar\": {\"angularaxis\": {\"gridcolor\": \"white\", \"linecolor\": \"white\", \"ticks\": \"\"}, \"bgcolor\": \"#E5ECF6\", \"radialaxis\": {\"gridcolor\": \"white\", \"linecolor\": \"white\", \"ticks\": \"\"}}, \"scene\": {\"xaxis\": {\"backgroundcolor\": \"#E5ECF6\", \"gridcolor\": \"white\", \"gridwidth\": 2, \"linecolor\": \"white\", \"showbackground\": true, \"ticks\": \"\", \"zerolinecolor\": \"white\"}, \"yaxis\": {\"backgroundcolor\": \"#E5ECF6\", \"gridcolor\": \"white\", \"gridwidth\": 2, \"linecolor\": \"white\", \"showbackground\": true, \"ticks\": \"\", \"zerolinecolor\": \"white\"}, \"zaxis\": {\"backgroundcolor\": \"#E5ECF6\", \"gridcolor\": \"white\", \"gridwidth\": 2, \"linecolor\": \"white\", \"showbackground\": true, \"ticks\": \"\", \"zerolinecolor\": \"white\"}}, \"shapedefaults\": {\"line\": {\"color\": \"#2a3f5f\"}}, \"ternary\": {\"aaxis\": {\"gridcolor\": \"white\", \"linecolor\": \"white\", \"ticks\": \"\"}, \"baxis\": {\"gridcolor\": \"white\", \"linecolor\": \"white\", \"ticks\": \"\"}, \"bgcolor\": \"#E5ECF6\", \"caxis\": {\"gridcolor\": \"white\", \"linecolor\": \"white\", \"ticks\": \"\"}}, \"title\": {\"x\": 0.05}, \"xaxis\": {\"automargin\": true, \"gridcolor\": \"white\", \"linecolor\": \"white\", \"ticks\": \"\", \"title\": {\"standoff\": 15}, \"zerolinecolor\": \"white\", \"zerolinewidth\": 2}, \"yaxis\": {\"automargin\": true, \"gridcolor\": \"white\", \"linecolor\": \"white\", \"ticks\": \"\", \"title\": {\"standoff\": 15}, \"zerolinecolor\": \"white\", \"zerolinewidth\": 2}}}, \"title\": {\"text\": \"Final Generation Traits\"}},\n",
              "                        {\"responsive\": true}\n",
              "                    ).then(function(){\n",
              "                            \n",
              "var gd = document.getElementById('9ab92f7c-c7dd-483c-a782-7a439a067b5d');\n",
              "var x = new MutationObserver(function (mutations, observer) {{\n",
              "        var display = window.getComputedStyle(gd).display;\n",
              "        if (!display || display === 'none') {{\n",
              "            console.log([gd, 'removed!']);\n",
              "            Plotly.purge(gd);\n",
              "            observer.disconnect();\n",
              "        }}\n",
              "}});\n",
              "\n",
              "// Listen for the removal of the full notebook cells\n",
              "var notebookContainer = gd.closest('#notebook-container');\n",
              "if (notebookContainer) {{\n",
              "    x.observe(notebookContainer, {childList: true});\n",
              "}}\n",
              "\n",
              "// Listen for the clearing of the current output cell\n",
              "var outputEl = gd.closest('.output');\n",
              "if (outputEl) {{\n",
              "    x.observe(outputEl, {childList: true});\n",
              "}}\n",
              "\n",
              "                        })\n",
              "                };\n",
              "                \n",
              "            </script>\n",
              "        </div>\n",
              "</body>\n",
              "</html>"
            ]
          },
          "metadata": {
            "tags": []
          }
        }
      ]
    },
    {
      "cell_type": "markdown",
      "metadata": {
        "id": "eu__78gmE-4z"
      },
      "source": [
        "#Unused ML Rose Model"
      ]
    },
    {
      "cell_type": "markdown",
      "metadata": {
        "id": "DDC5MsUYRram"
      },
      "source": [
        ""
      ]
    },
    {
      "cell_type": "code",
      "metadata": {
        "id": "eQJc-t9aAGdv",
        "colab": {
          "base_uri": "https://localhost:8080/"
        },
        "outputId": "41f56061-3adb-44a8-fd0b-0121ed69a002"
      },
      "source": [
        "! pip install mlrose"
      ],
      "execution_count": null,
      "outputs": [
        {
          "output_type": "stream",
          "text": [
            "Collecting mlrose\n",
            "  Downloading https://files.pythonhosted.org/packages/0d/f8/79e77a40f6e8988e3ecc9ead8a28024ee43df9c99fce2209037c9e6f9e4a/mlrose-1.3.0-py3-none-any.whl\n",
            "Requirement already satisfied: sklearn in /usr/local/lib/python3.6/dist-packages (from mlrose) (0.0)\n",
            "Requirement already satisfied: scipy in /usr/local/lib/python3.6/dist-packages (from mlrose) (1.4.1)\n",
            "Requirement already satisfied: numpy in /usr/local/lib/python3.6/dist-packages (from mlrose) (1.18.5)\n",
            "Requirement already satisfied: scikit-learn in /usr/local/lib/python3.6/dist-packages (from sklearn->mlrose) (0.22.2.post1)\n",
            "Requirement already satisfied: joblib>=0.11 in /usr/local/lib/python3.6/dist-packages (from scikit-learn->sklearn->mlrose) (0.17.0)\n",
            "Installing collected packages: mlrose\n",
            "Successfully installed mlrose-1.3.0\n"
          ],
          "name": "stdout"
        }
      ]
    },
    {
      "cell_type": "code",
      "metadata": {
        "id": "XW-DceUeAGgy",
        "colab": {
          "base_uri": "https://localhost:8080/"
        },
        "outputId": "d802a80a-8a62-4146-f150-4672f569d98d"
      },
      "source": [
        "import mlrose"
      ],
      "execution_count": null,
      "outputs": [
        {
          "output_type": "stream",
          "text": [
            "/usr/local/lib/python3.6/dist-packages/sklearn/externals/six.py:31: FutureWarning:\n",
            "\n",
            "The module is deprecated in version 0.21 and will be removed in version 0.23 since we've dropped support for Python 2.7. Please rely on the official version of six (https://pypi.org/project/six/).\n",
            "\n"
          ],
          "name": "stderr"
        }
      ]
    },
    {
      "cell_type": "code",
      "metadata": {
        "id": "u8M9JNuMAGy3"
      },
      "source": [
        "fitness = mlrose.CustomFitness(sum)\n",
        "problem = mlrose.DiscreteOpt(length = 3, fitness_fn =fitness , maximize = True, max_val = 100)"
      ],
      "execution_count": null,
      "outputs": []
    },
    {
      "cell_type": "code",
      "metadata": {
        "id": "mLUk8j24AGbO",
        "colab": {
          "base_uri": "https://localhost:8080/"
        },
        "outputId": "51804224-6f78-4301-e87e-154436721280"
      },
      "source": [
        "mlrose.genetic_alg(problem, pop_size=10, mutation_prob=0.1, max_attempts=10, curve=True)"
      ],
      "execution_count": null,
      "outputs": [
        {
          "output_type": "execute_result",
          "data": {
            "text/plain": [
              "(array([95, 72, 87]),\n",
              " 254.0,\n",
              " array([227., 248., 248., 248., 248., 248., 248., 253., 253., 253., 253.,\n",
              "        254., 254., 254., 254., 254., 254., 254., 254., 254., 254., 254.]))"
            ]
          },
          "metadata": {
            "tags": []
          },
          "execution_count": 20
        }
      ]
    }
  ]
}